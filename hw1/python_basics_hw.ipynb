{
 "cells": [
  {
   "cell_type": "code",
   "execution_count": null,
   "id": "422e4e88",
   "metadata": {},
   "outputs": [],
   "source": [
    "# Задание 1\n",
    "phrase_1 = 'Добрый день!'\n",
    "phrase_2 = 'Доброго времени суток!'\n",
    "if len(phrase_1) > len(phrase_2):\n",
    "    print ('Фраза 1 длиннее фразы 2')\n",
    "elif len(phrase_1) < len(phrase_2):\n",
    "    print ('Фраза 2 длиннее фразы 1')\n",
    "elif len(phrase_1) == len(phrase_2):\n",
    "    print ('Фразы равной длины')\n",
    "print ('Конец программы')"
   ]
  },
  {
   "cell_type": "code",
   "execution_count": 111,
   "id": "2f27ed01",
   "metadata": {},
   "outputs": [
    {
     "name": "stdout",
     "output_type": "stream",
     "text": [
      "Високосный год\n",
      "Конец программы\n"
     ]
    }
   ],
   "source": [
    "# Задание 2\n",
    "year = 2020\n",
    "if year % 4 == 0 and year % 100 != 0 or year % 100 == 0:\n",
    "    print ('Високосный год')\n",
    "else: print ('Невисокосный год')\n",
    "print ('Конец программы')"
   ]
  },
  {
   "cell_type": "code",
   "execution_count": 112,
   "id": "52a88a12",
   "metadata": {},
   "outputs": [
    {
     "name": "stdout",
     "output_type": "stream",
     "text": [
      "Введите день: 25\n",
      "Введите месяц: Декабрь\n",
      "Ваш знак зодиака - Козерог\n"
     ]
    }
   ],
   "source": [
    "# Задание 3\n",
    "user_input = int(input('Введите день: '))\n",
    "user_input1 = str(input('Введите месяц: '))\n",
    "if user_input >= 21 and user_input1 == ('Март') or user_input <= 20 and user_input1 == ('Апрель'):\n",
    "    print ('Ваш знак зодиака - Овен')\n",
    "elif user_input >= 21 and user_input1 == ('Апрель') or user_input <= 20 and user_input1 == ('Май'):\n",
    "    print ('Ваш знак зодиака - Телец')\n",
    "elif user_input >= 22 and user_input1 == ('Май') or user_input <= 21 and user_input1 == ('Июнь'):\n",
    "    print ('Ваш знак зодиака - Близнецы')\n",
    "elif user_input >= 22 and user_input1 == ('Июнь') or user_input <= 22 and user_input1 == ('Июль'):\n",
    "    print ('Ваш знак зодиака - Рак')\n",
    "elif user_input >= 23 and user_input1 == ('Июль') or user_input <= 21 and user_input1 == ('Август'):\n",
    "    print ('Ваш знак зодиака - Лев')\n",
    "elif user_input >= 22 and user_input1 == ('Август') or user_input <= 23 and user_input1 == ('Сентябрь'):\n",
    "    print ('Ваш знак зодиака - Дева')\n",
    "elif user_input >= 24 and user_input1 == ('Сентябрь') or user_input <= 23 and user_input1 == ('Октябрь'):\n",
    "    print ('Ваш знак зодиака - Весы')\n",
    "elif user_input >= 24 and user_input1 == ('Октябрь') or user_input <= 23 and user_input1 == ('Ноябрь'):\n",
    "    print ('Ваш знак зодиака - Скорпион')\n",
    "elif user_input >= 24 and user_input1 == ('Ноябрь') or user_input <= 22 and user_input1 == ('Декабрь'):\n",
    "    print ('Ваш знак зодиака - Стрелец')\n",
    "elif user_input >= 23 and user_input1 == ('Декабрь') or user_input <= 20 and user_input1 == ('Январь'):\n",
    "    print ('Ваш знак зодиака - Козерог')\n",
    "elif user_input >= 21 and user_input1 == ('Январь') or user_input <= 19 and user_input1 == ('Февраль'):\n",
    "    print ('Ваш знак зодиака - Водолей')\n",
    "elif user_input >= 20 and user_input1 == ('Февраль') or user_input <= 20 and user_input1 == ('Март'):\n",
    "    print ('Ваш знак зодиака - Рыбы')"
   ]
  },
  {
   "cell_type": "code",
   "execution_count": 141,
   "id": "95dd06cc",
   "metadata": {},
   "outputs": [
    {
     "name": "stdout",
     "output_type": "stream",
     "text": [
      "Введите ширину: 13\n",
      "Введите длину: 13\n",
      "Введите высоту: 13\n",
      "Коробка №1\n"
     ]
    }
   ],
   "source": [
    "# Задание 4\n",
    "width = int(input('Введите ширину: '))\n",
    "length = int(input('Введите длину: '))\n",
    "height = int(input('Введите высоту: '))\n",
    "if width <= 15 and length <= 15 and height <= 15:\n",
    "    print ('Коробка №1')\n",
    "elif length > 200:\n",
    "    print ('Упаковка для лыж')\n",
    "elif width < 50 or length < 50 or height < 50:\n",
    "    print ('Коробка №2')\n",
    "else:\n",
    "    print ('Стандартная коробка №3')"
   ]
  }
 ],
 "metadata": {
  "kernelspec": {
   "display_name": "Python 3 (ipykernel)",
   "language": "python",
   "name": "python3"
  },
  "language_info": {
   "codemirror_mode": {
    "name": "ipython",
    "version": 3
   },
   "file_extension": ".py",
   "mimetype": "text/x-python",
   "name": "python",
   "nbconvert_exporter": "python",
   "pygments_lexer": "ipython3",
   "version": "3.9.7"
  }
 },
 "nbformat": 4,
 "nbformat_minor": 5
}
