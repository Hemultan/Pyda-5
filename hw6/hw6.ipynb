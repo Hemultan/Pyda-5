{
 "cells": [
  {
   "cell_type": "markdown",
   "id": "6666f620",
   "metadata": {},
   "source": [
    "### Задание 1"
   ]
  },
  {
   "cell_type": "code",
   "execution_count": null,
   "id": "87daefc1",
   "metadata": {},
   "outputs": [],
   "source": [
    "from datetime import datetime\n",
    "The_Moscow_Times = ('Wednesday, October 2, 2002')\n",
    "The_Guardian = ('Friday, 11.10.13')\n",
    "Daily_News = ('Thursday, 18 August 1977')\n",
    "TMT = datetime.strptime(The_Moscow_Times, '%A, %B %d, %Y')\n",
    "TG = datetime.strptime(The_Guardian, '%A, %m.%d.%y')\n",
    "DN = datetime.strptime(Daily_News, '%A, %d %B %Y')"
   ]
  },
  {
   "cell_type": "markdown",
   "id": "74fbd89e",
   "metadata": {},
   "source": [
    "### Задание 2"
   ]
  },
  {
   "cell_type": "code",
   "execution_count": null,
   "id": "020614bb",
   "metadata": {},
   "outputs": [],
   "source": [
    "from datetime import datetime\n",
    "stream = ['2018-04-02', '2018-02-29', '2018-19-02']\n",
    "def streams(*args):\n",
    "    for i, el in enumerate(stream):\n",
    "        i += 1\n",
    "        try:\n",
    "            datetime.strptime(el, '%Y-%m-%d')\n",
    "            print(f'{i}-я дата:', True)\n",
    "        except ValueError:\n",
    "            print(f'{i}-я дата:', False)\n",
    "\n",
    "streams(stream)"
   ]
  },
  {
   "cell_type": "markdown",
   "id": "1062f582",
   "metadata": {},
   "source": [
    "### Задание 3"
   ]
  },
  {
   "cell_type": "code",
   "execution_count": null,
   "id": "e6dd63b6",
   "metadata": {},
   "outputs": [],
   "source": [
    "from datetime import datetime, timedelta\n",
    "empty_list = []\n",
    "start_date = input('Введите дату в формате YYYY-MM-DD: ')\n",
    "end_date = input('Введите дату в формате YYYY-MM-DD: ')\n",
    "def date_range(*args):\n",
    "    try:\n",
    "        start_date_dt = datetime.strptime(start_date, '%Y-%m-%d')\n",
    "        end_date_dt = datetime.strptime(end_date, '%Y-%m-%d')\n",
    "        current_date = start_date_dt\n",
    "        if current_date > end_date_dt:\n",
    "            print(empty_list)\n",
    "        while current_date <= end_date_dt:\n",
    "            print(current_date.strftime('%Y-%m-%d'))\n",
    "            current_date += timedelta(days=1)\n",
    "            \n",
    "    except: \n",
    "        print(empty_list)\n",
    "\n",
    "date_range(start_date, end_date)"
   ]
  }
 ],
 "metadata": {
  "kernelspec": {
   "display_name": "Python 3 (ipykernel)",
   "language": "python",
   "name": "python3"
  },
  "language_info": {
   "codemirror_mode": {
    "name": "ipython",
    "version": 3
   },
   "file_extension": ".py",
   "mimetype": "text/x-python",
   "name": "python",
   "nbconvert_exporter": "python",
   "pygments_lexer": "ipython3",
   "version": "3.9.7"
  }
 },
 "nbformat": 4,
 "nbformat_minor": 5
}
