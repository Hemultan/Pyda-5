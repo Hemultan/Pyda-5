{
 "cells": [
  {
   "cell_type": "code",
   "execution_count": 1,
   "id": "909aa20f",
   "metadata": {
    "scrolled": true
   },
   "outputs": [],
   "source": [
    "documents = [\n",
    " {'type': 'passport', 'number': '2207 876234', 'name': 'Василий Гупкин'},\n",
    " {'type': 'invoice', 'number': '11-2', 'name': 'Геннадий Покемонов'},\n",
    " {'type': 'insurance', 'number': '10006', 'name': 'Аристарх Павлов'}\n",
    "]\n",
    "\n",
    "directories = {\n",
    " '1': ['2207 876234', '11-2'],\n",
    " '2': ['10006'],\n",
    " '3': []\n",
    "}"
   ]
  },
  {
   "cell_type": "code",
   "execution_count": 2,
   "id": "b8b78cd2",
   "metadata": {},
   "outputs": [
    {
     "name": "stdout",
     "output_type": "stream",
     "text": [
      "Введите номер документа: 10006\n"
     ]
    },
    {
     "data": {
      "text/plain": [
       "'Владелец документа: Аристарх Павлов'"
      ]
     },
     "execution_count": 2,
     "metadata": {},
     "output_type": "execute_result"
    }
   ],
   "source": [
    "def p_func(owner_by_number):\n",
    "    number = input('Введите номер документа: ')\n",
    "    for dictionary in documents:\n",
    "        if number in dictionary.values():\n",
    "            return(f\"Владелец документа: {dictionary['name']}\")\n",
    "            break\n",
    "    else:\n",
    "        return('Документ не найден в базе')\n",
    "\n",
    "p_func(documents)"
   ]
  },
  {
   "cell_type": "code",
   "execution_count": 3,
   "id": "43ccfb28",
   "metadata": {},
   "outputs": [
    {
     "name": "stdout",
     "output_type": "stream",
     "text": [
      "Введите номер документа: 1006\n"
     ]
    },
    {
     "data": {
      "text/plain": [
       "'Документ не найден в базе'"
      ]
     },
     "execution_count": 3,
     "metadata": {},
     "output_type": "execute_result"
    }
   ],
   "source": [
    "def s_func(shelf_by_number):\n",
    "    number = input('Введите номер документа: ')\n",
    "    for shelf, numb in directories.items():\n",
    "        if number in numb:\n",
    "            return(f'Документ хранится на полке: №{shelf}')\n",
    "            break\n",
    "    else:\n",
    "        return('Документ не найден в базе')\n",
    "    \n",
    "s_func(directories)"
   ]
  },
  {
   "cell_type": "code",
   "execution_count": 10,
   "id": "da9c2546",
   "metadata": {},
   "outputs": [
    {
     "name": "stdout",
     "output_type": "stream",
     "text": [
      "№: 2207 876234, тип: passport, владелец: Василий Гупкин, полка хранения: 1\n",
      "№: 11-2, тип: invoice, владелец: Геннадий Покемонов, полка хранения: 1\n",
      "№: 10006, тип: insurance, владелец: Аристарх Павлов, полка хранения: 2\n"
     ]
    }
   ],
   "source": [
    "def l_func(docs, dirs):\n",
    "    for shelf, nums in directories.items():\n",
    "        for doc in documents:\n",
    "            if doc['number'] in nums:\n",
    "                print(f\"№: {doc['number']}, тип: {doc['type']}, владелец: {doc['name']}, полка хранения: {shelf}\")\n",
    "                \n",
    "l_func(documents, directories)"
   ]
  },
  {
   "cell_type": "code",
   "execution_count": 5,
   "id": "96cdaf22",
   "metadata": {},
   "outputs": [
    {
     "name": "stdout",
     "output_type": "stream",
     "text": [
      "Введите номер полки: 2\n"
     ]
    },
    {
     "data": {
      "text/plain": [
       "\"Такая полка уже существует. Текущий перечень полок: ['1', '2', '3']\""
      ]
     },
     "execution_count": 5,
     "metadata": {},
     "output_type": "execute_result"
    }
   ],
   "source": [
    "def ads_func(dirs):\n",
    "    new_shelf = input('Введите номер полки: ')\n",
    "    if new_shelf in directories.keys():\n",
    "        return(f'Такая полка уже существует. Текущий перечень полок: {list(directories.keys())}')\n",
    "    else:\n",
    "        directories[new_shelf] = []\n",
    "        return(f'Полка добавлена. Текущий перечень полок: {list(directories.keys())}')\n",
    "    \n",
    "ads_func(directories)"
   ]
  },
  {
   "cell_type": "code",
   "execution_count": 6,
   "id": "4b2c2e93",
   "metadata": {},
   "outputs": [
    {
     "name": "stdout",
     "output_type": "stream",
     "text": [
      "Введите номер полки: 2\n"
     ]
    },
    {
     "data": {
      "text/plain": [
       "\"На полке есть документы, удалите их перед удалением полки. Текущий перечень полок: ['1', '2', '3']\""
      ]
     },
     "execution_count": 6,
     "metadata": {},
     "output_type": "execute_result"
    }
   ],
   "source": [
    "def ds_func(docs, directs):\n",
    "    del_shelf = input('Введите номер полки: ')\n",
    "    for shelf, nums in directories.items():\n",
    "        for doc in documents:\n",
    "            if del_shelf not in directories.keys():\n",
    "                return('Такой полки нет, попробуйте снова!')\n",
    "                break\n",
    "            elif del_shelf in directories.keys() and directories[del_shelf] != []:\n",
    "                return(f'На полке есть документы, удалите их перед удалением полки. Текущий перечень полок: {list(directories.keys())}')\n",
    "                break\n",
    "            elif del_shelf in directories.keys() and directories[del_shelf] == []:\n",
    "                del(directories[del_shelf])\n",
    "                return(f'Полка удалена. Текущий перечень полок: {list(directories.keys())}')\n",
    "                break\n",
    "        break\n",
    "        \n",
    "ds_func(documents, directories)"
   ]
  },
  {
   "cell_type": "code",
   "execution_count": 12,
   "id": "9c9127ad",
   "metadata": {},
   "outputs": [
    {
     "name": "stdout",
     "output_type": "stream",
     "text": [
      "Введите команду: p\n",
      "Введите номер документа: 10006\n",
      "Владелец документа: Аристарх Павлов\n",
      "Введите команду: s\n",
      "Введите номер документа: 10006\n",
      "Документ хранится на полке: №2\n",
      "Введите команду: l\n",
      "№: 2207 876234, тип: passport, владелец: Василий Гупкин, полка хранения: 1\n",
      "№: 11-2, тип: invoice, владелец: Геннадий Покемонов, полка хранения: 1\n",
      "№: 10006, тип: insurance, владелец: Аристарх Павлов, полка хранения: 2\n",
      "None\n",
      "Введите команду: ads\n",
      "Введите номер полки: 2\n",
      "Такая полка уже существует. Текущий перечень полок: ['1', '2', '3']\n",
      "Введите команду: ds\n",
      "Введите номер полки: 2\n",
      "На полке есть документы, удалите их перед удалением полки. Текущий перечень полок: ['1', '2', '3']\n",
      "Введите команду: q\n",
      "Программа завершена!\n"
     ]
    }
   ],
   "source": [
    "def main(doc, dirs):\n",
    "    while True:\n",
    "        user_input = input('Введите команду: ')\n",
    "        if user_input == 'p':\n",
    "            print(p_func(documents))\n",
    "        elif user_input == 's':\n",
    "            print(s_func(directories))    \n",
    "        elif user_input == 'l':\n",
    "            print(l_func(documents, directories))  \n",
    "        elif user_input == 'ads':\n",
    "            print(ads_func(directories))  \n",
    "        elif user_input == 'ds':\n",
    "            print(ds_func(documents, directories))\n",
    "        elif user_input == 'q':\n",
    "            print('Программа завершена!')\n",
    "            break\n",
    "\n",
    "main(documents, directories)"
   ]
  },
  {
   "cell_type": "code",
   "execution_count": null,
   "id": "96775d6b",
   "metadata": {},
   "outputs": [],
   "source": []
  },
  {
   "cell_type": "code",
   "execution_count": null,
   "id": "274b06c3",
   "metadata": {},
   "outputs": [],
   "source": []
  },
  {
   "cell_type": "code",
   "execution_count": null,
   "id": "34737e08",
   "metadata": {},
   "outputs": [],
   "source": []
  },
  {
   "cell_type": "code",
   "execution_count": null,
   "id": "03243f21",
   "metadata": {},
   "outputs": [],
   "source": []
  },
  {
   "cell_type": "code",
   "execution_count": null,
   "id": "640fd2b1",
   "metadata": {},
   "outputs": [],
   "source": []
  },
  {
   "cell_type": "code",
   "execution_count": null,
   "id": "e3f7d30f",
   "metadata": {},
   "outputs": [],
   "source": []
  },
  {
   "cell_type": "code",
   "execution_count": null,
   "id": "951f8e00",
   "metadata": {},
   "outputs": [],
   "source": []
  },
  {
   "cell_type": "code",
   "execution_count": null,
   "id": "86012feb",
   "metadata": {},
   "outputs": [],
   "source": []
  },
  {
   "cell_type": "code",
   "execution_count": null,
   "id": "83126760",
   "metadata": {},
   "outputs": [],
   "source": []
  },
  {
   "cell_type": "code",
   "execution_count": null,
   "id": "6a297e9a",
   "metadata": {},
   "outputs": [],
   "source": []
  },
  {
   "cell_type": "code",
   "execution_count": null,
   "id": "2c843393",
   "metadata": {},
   "outputs": [],
   "source": []
  },
  {
   "cell_type": "code",
   "execution_count": null,
   "id": "c084883f",
   "metadata": {},
   "outputs": [],
   "source": []
  },
  {
   "cell_type": "code",
   "execution_count": null,
   "id": "11a000f3",
   "metadata": {},
   "outputs": [],
   "source": []
  },
  {
   "cell_type": "code",
   "execution_count": null,
   "id": "c5a81e7c",
   "metadata": {},
   "outputs": [],
   "source": []
  },
  {
   "cell_type": "code",
   "execution_count": null,
   "id": "f0729e91",
   "metadata": {},
   "outputs": [],
   "source": []
  },
  {
   "cell_type": "markdown",
   "id": "5cfcf63c",
   "metadata": {},
   "source": [
    "### Черновик"
   ]
  },
  {
   "cell_type": "code",
   "execution_count": null,
   "id": "8074d429",
   "metadata": {},
   "outputs": [],
   "source": [
    "# # Пользователь по команде \"p\" может узнать владельца документа по его номеру\n",
    "# def p_func(owner_by_number):\n",
    "#     number = input('Введите номер документа: ')\n",
    "#     for dictionary in documents:\n",
    "#         if number in dictionary.values():\n",
    "#             print(f\"Владелец документа: {dictionary['name']}\")\n",
    "#             break\n",
    "#     else:\n",
    "#         print('Документ не найден в базе')\n",
    "        \n",
    "# p_func(documents) \n",
    "\n",
    "# # Пользователь по команде \"s\" может по номеру документа узнать на какой полке он хранится\n",
    "# def s_func(shelf_by_number):\n",
    "#     number = input('Введите номер документа: ')\n",
    "#     for shelf, numb in directories.items():\n",
    "#         if number in numb:\n",
    "#             print(f'Документ хранится на полке: №{shelf}')\n",
    "#             break\n",
    "#     else:\n",
    "#         print('Документ не найден в базе')\n",
    "        \n",
    "# s_func(directories)\n",
    "\n",
    "# # Пользователь по команде \"l\" может увидеть полную информацию по всем документам\n",
    "# def l_func(docs, directs):\n",
    "#     for shelf, nums in directories.items():\n",
    "#         for doc in documents:\n",
    "#             if doc['number'] in nums:\n",
    "#                 print(f\"№: {doc['number']}, тип: {doc['type']}, владелец: {doc['name']}, полка хранения: {shelf}\")\n",
    "\n",
    "# l_func(documents, directories)  \n",
    "\n",
    "# # Пользователь по команде \"ads\" может добавить новую полку\n",
    "# def ads_func():\n",
    "#     new_shelf = input('Введите номер полки: ')\n",
    "#     if new_shelf in directories.keys():\n",
    "#         print(f'Такая полка уже существует. Текущий перечень полок: {list(directories.keys())}')\n",
    "#     else:\n",
    "#         directories[new_shelf] = []\n",
    "#         print(f'Полка добавлена. Текущий перечень полок: {list(directories.keys())}')\n",
    "        \n",
    "# ads_func()   \n",
    "\n",
    "# # Пользователь по команде \"ds\" может удалить существующую полку из данных (только если она пустая)\n",
    "# def ds_func(docs, directs):\n",
    "#     del_shelf = input('Введите номер полки: ')\n",
    "#     for shelf, nums in directories.items():\n",
    "#         for doc in documents:\n",
    "#             if del_shelf not in directories.keys():\n",
    "#                 print('Такого ключа нет, попробуйте снова!')\n",
    "#                 break\n",
    "#             elif del_shelf in directories.keys() and directories[del_shelf] != []:\n",
    "#                 print(f'На полке есть документы, удалите их перед удалением полки. Текущий перечень полок: {list(directories.keys())}')\n",
    "#                 break\n",
    "#             elif del_shelf in directories.keys() and directories[del_shelf] == []:\n",
    "#                 del(directories[del_shelf])\n",
    "#                 print(f'Полка удалена. Текущий перечень полок: {list(directories.keys())}')\n",
    "#                 break\n",
    "#         break\n",
    "        \n",
    "# ds_func(documents, directories)   "
   ]
  },
  {
   "cell_type": "code",
   "execution_count": null,
   "id": "3ccbae84",
   "metadata": {},
   "outputs": [],
   "source": [
    "# #Цикл ввода\n",
    "# while input('Введите команду: ') != 'q':\n",
    "#     input('Введите команду: ')\n",
    "# else: \n",
    "#     print('Программа завершена')"
   ]
  },
  {
   "cell_type": "code",
   "execution_count": null,
   "id": "8a038595",
   "metadata": {},
   "outputs": [],
   "source": [
    "# Пользователь по команде \"p\" может узнать владельца документа по его номеру\n",
    "# def p_func(owner_by_number):\n",
    "#     number = input('Введите номер документа: ')\n",
    "#     for dictionary in documents:\n",
    "#         if number in dictionary.values():\n",
    "#             print(f\"Владелец документа: {dictionary['name']}\")\n",
    "#             break\n",
    "#     else:\n",
    "#         print('Документ не найден в базе')\n",
    "# p_func(documents)"
   ]
  },
  {
   "cell_type": "code",
   "execution_count": null,
   "id": "f949cde6",
   "metadata": {},
   "outputs": [],
   "source": [
    "# Пользователь по команде \"s\" может по номеру документа узнать на какой полке он хранится\n",
    "# def s_func(shelf_by_number):\n",
    "#     number = input('Введите номер документа: ')\n",
    "#     for shelf, numb in directories.items():\n",
    "#         if number in numb:\n",
    "#             print(f'Документ хранится на полке: №{shelf}')\n",
    "#             break\n",
    "#     else:\n",
    "#         print('Документ не найден в базе')\n",
    "# s_func(directories)"
   ]
  },
  {
   "cell_type": "code",
   "execution_count": null,
   "id": "4e75197a",
   "metadata": {},
   "outputs": [],
   "source": [
    "# Пользователь по команде \"l\" может увидеть полную информацию по всем документам\n",
    "# def l_func(docs, directs):\n",
    "#     for shelf, nums in directories.items():\n",
    "#         for doc in documents:\n",
    "#             if doc['number'] in nums:\n",
    "#                 print(f\"№: {doc['number']}, тип: {doc['type']}, владелец: {doc['name']}, полка хранения: {shelf}\")\n",
    "\n",
    "# l_func(documents, directories)   "
   ]
  },
  {
   "cell_type": "code",
   "execution_count": null,
   "id": "3f7ca944",
   "metadata": {},
   "outputs": [],
   "source": [
    "# Пользователь по команде \"ads\" может добавить новую полку\n",
    "# def ads_func():\n",
    "#     new_shelf = input('Введите номер полки: ')\n",
    "#     if new_shelf in directories.keys():\n",
    "#         print(f'Такая полка уже существует. Текущий перечень полок: {list(directories.keys())}')\n",
    "#     else:\n",
    "#         directories[new_shelf] = []\n",
    "#         print(f'Полка добавлена. Текущий перечень полок: {list(directories.keys())}')\n",
    "# ads_func()   "
   ]
  },
  {
   "cell_type": "code",
   "execution_count": null,
   "id": "e3cebb39",
   "metadata": {},
   "outputs": [],
   "source": [
    "# Пользователь по команде \"ds\" может удалить существующую полку из данных (только если она пустая)\n",
    "# def ds_func(docs, directs):\n",
    "#     del_shelf = input('Введите номер полки: ')\n",
    "#     for shelf, nums in directories.items():\n",
    "#         for doc in documents:\n",
    "#             if del_shelf not in directories.keys():\n",
    "#                 print('Такого ключа нет, попробуйте снова!')\n",
    "#                 break\n",
    "#             elif del_shelf in directories.keys() and directories[del_shelf] != []:\n",
    "#                 print(f'На полке есть документы, удалите их перед удалением полки. Текущий перечень полок: {list(directories.keys())}')\n",
    "#                 break\n",
    "#             elif del_shelf in directories.keys() and directories[del_shelf] == []:\n",
    "#                 del(directories[del_shelf])\n",
    "#                 print(f'Полка удалена. Текущий перечень полок: {list(directories.keys())}')\n",
    "#                 break\n",
    "#         break\n",
    "# ds_func(documents, directories)    "
   ]
  }
 ],
 "metadata": {
  "kernelspec": {
   "display_name": "Python 3 (ipykernel)",
   "language": "python",
   "name": "python3"
  },
  "language_info": {
   "codemirror_mode": {
    "name": "ipython",
    "version": 3
   },
   "file_extension": ".py",
   "mimetype": "text/x-python",
   "name": "python",
   "nbconvert_exporter": "python",
   "pygments_lexer": "ipython3",
   "version": "3.9.7"
  }
 },
 "nbformat": 4,
 "nbformat_minor": 5
}
