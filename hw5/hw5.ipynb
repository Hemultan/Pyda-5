{
 "cells": [
  {
   "cell_type": "code",
   "execution_count": 26,
   "id": "b9375051",
   "metadata": {},
   "outputs": [
    {
     "name": "stdout",
     "output_type": "stream",
     "text": [
      "c23704ea54,other\n",
      "\n"
     ]
    }
   ],
   "source": [
    "# 1-я часть задания. Кое-что погуглил, но в целом вопросов особо нет\n",
    "\n",
    "import json\n",
    "\n",
    "purchases = {}\n",
    "\n",
    "with open('for_HW/purchase_log.txt', 'r', encoding='utf-8') as f:\n",
    "    for i, line in enumerate(f):\n",
    "        line = line.strip()\n",
    "        purch = json.loads(line)\n",
    "       \n",
    "        key = purch['user_id']\n",
    "        value = purch['category']\n",
    "        purchases[key] = value\n",
    "        \n",
    "        if i > 5:\n",
    "            break\n",
    "\n",
    "# 2-я часть задания. В процессе возникло несколько проблем, так пока и не понял саму логику. Думал через \"for\" пербрать \n",
    "# элементы и при нахождении ключа из {purchases} добавлять '.append' его в каждую строку. \n",
    "# Гугл в основном не помог, так как разборы кода с такими задачами влюкчают в себя библиотеку Pandas.\n",
    "\n",
    "with open('for_HW/visit_log.csv', 'r', encoding='utf-8') as ff:\n",
    "    for k, v in purchases.items():\n",
    "        for i, lines in enumerate(ff):\n",
    "            linesss = lines.strip().split(',')\n",
    "            if k in lines:\n",
    "                linesss.append('v')\n",
    "            abc = ff.readline()\n",
    "        if i > 5:\n",
    "            break\n",
    "    \n",
    "    print(abc)\n",
    "  "
   ]
  },
  {
   "cell_type": "code",
   "execution_count": 35,
   "id": "42982c8e",
   "metadata": {},
   "outputs": [],
   "source": [
    "# 3-я задача. Все получилось сделать быстро, но вывод данных не совсем \"Красивый\". Так понимаю, в связи с перегоном из json в\n",
    "# list и обратно. Хотя по лекционному материалу, мне казалось, что всед должно быть ок.\n",
    "\n",
    "with open('for_HW/visit_log.csv', 'r', encoding='utf-8') as ff:\n",
    "    with open('for_HW/funnel.csv', 'w', encoding='utf-8') as funnel:\n",
    "        for row in ff:\n",
    "            row = row.strip().split(',')\n",
    "            if row[1] is not None:\n",
    "                funnel.write(f'{json.dumps(row)}\\n')"
   ]
  }
 ],
 "metadata": {
  "kernelspec": {
   "display_name": "Python 3 (ipykernel)",
   "language": "python",
   "name": "python3"
  },
  "language_info": {
   "codemirror_mode": {
    "name": "ipython",
    "version": 3
   },
   "file_extension": ".py",
   "mimetype": "text/x-python",
   "name": "python",
   "nbconvert_exporter": "python",
   "pygments_lexer": "ipython3",
   "version": "3.9.7"
  }
 },
 "nbformat": 4,
 "nbformat_minor": 5
}
