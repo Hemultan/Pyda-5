{
 "cells": [
  {
   "cell_type": "code",
   "execution_count": null,
   "id": "b9375051",
   "metadata": {},
   "outputs": [],
   "source": [
    "# 1-я часть задания. \n",
    "import json\n",
    "\n",
    "purchases = {}\n",
    "\n",
    "with open('for_HW/purchase_log.txt', 'r', encoding='utf-8') as f:\n",
    "    next(f)\n",
    "    for line in f:\n",
    "        line = line.strip()\n",
    "        purch = json.loads(line)\n",
    "       \n",
    "        key = purch['user_id']\n",
    "        value = purch['category']\n",
    "        purchases[key] = value\n",
    "\n",
    "\n",
    "# 2-я часть задания.\n",
    "with open('for_HW/visit_log.csv', 'r', encoding='utf-8') as ff:\n",
    "    with open('for_HW/funnel.csv', 'w', encoding='utf-8') as funnel:\n",
    "        for lines in ff:\n",
    "            lines = lines.strip().split(',')\n",
    "            user_id = lines[0]\n",
    "            if user_id in purchases:\n",
    "                lines.append(purchases[user_id])\n",
    "                add_lines = ','.join(lines)\n",
    "                funnel.write(add_lines + '\\n')"
   ]
  }
 ],
 "metadata": {
  "kernelspec": {
   "display_name": "Python 3 (ipykernel)",
   "language": "python",
   "name": "python3"
  },
  "language_info": {
   "codemirror_mode": {
    "name": "ipython",
    "version": 3
   },
   "file_extension": ".py",
   "mimetype": "text/x-python",
   "name": "python",
   "nbconvert_exporter": "python",
   "pygments_lexer": "ipython3",
   "version": "3.9.7"
  }
 },
 "nbformat": 4,
 "nbformat_minor": 5
}
