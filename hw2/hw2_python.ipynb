{
 "cells": [
  {
   "cell_type": "code",
   "execution_count": 2,
   "id": "584d439f",
   "metadata": {},
   "outputs": [
    {
     "name": "stdout",
     "output_type": "stream",
     "text": [
      "Введите слово - Анастасия\n",
      "Количетсво букв в слове: 9\n",
      "Слово содержит - Нечетное число букв\n",
      "Средняя буква в слове\n",
      "т\n"
     ]
    }
   ],
   "source": [
    "# Задание 1\n",
    "word = input('Введите слово - ')\n",
    "a = len(word)\n",
    "print(f'Количетсво букв в слове: {a}')\n",
    "if a % 2 == 0:\n",
    "    nmid = a // 2 - 1\n",
    "    nmid1 = a // 2\n",
    "    print('Слово содержит - Четное число букв', '\\n2 Средние буквы в слове', f'\\nРезультат: {word[nmid] + word[nmid1]}')\n",
    "else:\n",
    "    mid = a // 2\n",
    "    print ('Слово содержит - Нечетное число букв', '\\nСредняя буква в слове', f'\\nРезультат: {word[mid]}')"
   ]
  },
  {
   "cell_type": "code",
   "execution_count": 3,
   "id": "4f8ec163",
   "metadata": {},
   "outputs": [
    {
     "name": "stdout",
     "output_type": "stream",
     "text": [
      "Введите число - 432\n",
      "Введите число - 2335977619261375\n",
      "Введите число - 213\n",
      "Введите число - 2\n",
      "Введите число - 0\n",
      "2335977619262022\n"
     ]
    }
   ],
   "source": [
    "# Задание 2\n",
    "numb = int(input('Введите число - '))\n",
    "sum = 0\n",
    "while numb != 0:\n",
    "    sum += numb\n",
    "    numb = int(input('Введите число - '))\n",
    "print(sum)"
   ]
  },
  {
   "cell_type": "code",
   "execution_count": 1,
   "id": "6f7478a4",
   "metadata": {},
   "outputs": [
    {
     "name": "stdout",
     "output_type": "stream",
     "text": [
      "Идеальные пары\n",
      "Alex и Emma\n",
      "Arthur и Kate\n",
      "John и Kira\n",
      "Peter и Liza\n",
      "Richard и Trisha\n"
     ]
    }
   ],
   "source": [
    "# Задание 3 \n",
    "import copy\n",
    "b = ['Peter', 'Alex', 'John', 'Arthur', 'Richard']\n",
    "g = ['Kate', 'Liza', 'Kira', 'Emma', 'Trisha']\n",
    "bb = copy.copy(b)\n",
    "gg = copy.copy(g)\n",
    "bb = sorted(b)\n",
    "gg = sorted(g)\n",
    "if len(bb) == len(gg):\n",
    "    print('Идеальные пары')\n",
    "    a = list(zip(bb, gg))\n",
    "    for bg in a:\n",
    "        print(bg[0], 'и', bg[1])\n",
    "else:\n",
    "    print ('Внимание, кто-то может остаться без пары!')"
   ]
  },
  {
   "cell_type": "code",
   "execution_count": 101,
   "id": "36a52974",
   "metadata": {},
   "outputs": [
    {
     "name": "stdout",
     "output_type": "stream",
     "text": [
      "Thailand - 23.857 C\n",
      "Germany - 13.8 C\n",
      "Russia - 3.714 C\n",
      "Poland - 12.0 C\n"
     ]
    }
   ],
   "source": [
    "# Задание 4\n",
    "import copy\n",
    "countries_temp = [\n",
    "['Thailand', [75.2, 77, 78.8, 73.4, 68, 75.2, 77]], \n",
    "['Germany', [57.2, 55.4, 59, 59, 53.6]],\n",
    "['Russia', [35.6, 37.4, 39.2, 41, 42.8, 39.2, 35.6]],\n",
    "['Poland', [50, 50, 53.6, 57.2, 55.4, 55.4]]\n",
    "]\n",
    "countries_temperature = copy.copy(countries_temp)\n",
    "for i in countries_temperature:\n",
    "    print(i[0], '-', round(((sum(i[1]) / len(i[1]) - 32) / 1.8), 1), 'C')"
   ]
  }
 ],
 "metadata": {
  "kernelspec": {
   "display_name": "Python 3 (ipykernel)",
   "language": "python",
   "name": "python3"
  },
  "language_info": {
   "codemirror_mode": {
    "name": "ipython",
    "version": 3
   },
   "file_extension": ".py",
   "mimetype": "text/x-python",
   "name": "python",
   "nbconvert_exporter": "python",
   "pygments_lexer": "ipython3",
   "version": "3.9.7"
  }
 },
 "nbformat": 4,
 "nbformat_minor": 5
}
